{
 "cells": [
  {
   "cell_type": "code",
   "execution_count": 3,
   "metadata": {},
   "outputs": [
    {
     "name": "stderr",
     "output_type": "stream",
     "text": [
      "23/10/27 09:35:12 WARN Utils: Your hostname, kushal-Latitude-E5440 resolves to a loopback address: 127.0.1.1; using 192.168.1.88 instead (on interface wlp2s0)\n",
      "23/10/27 09:35:12 WARN Utils: Set SPARK_LOCAL_IP if you need to bind to another address\n",
      "23/10/27 09:35:12 WARN NativeCodeLoader: Unable to load native-hadoop library for your platform... using builtin-java classes where applicable\n",
      "Setting default log level to \"WARN\".\n",
      "To adjust logging level use sc.setLogLevel(newLevel). For SparkR, use setLogLevel(newLevel).\n",
      "23/10/27 09:35:15 WARN Utils: Service 'SparkUI' could not bind on port 4040. Attempting port 4041.\n"
     ]
    }
   ],
   "source": [
    "from pyspark.sql import SparkSession\n",
    "\n",
    "spark = SparkSession \\\n",
    "    .builder \\\n",
    "    .appName(\"final_project\") \\\n",
    "    .master(\"local[*]\")\\\n",
    "    .config(\"spark.executor.memory\", \"2g\")\\\n",
    "    .config(\"spark.jars\", \"/usr/lib/jvm/java-11-openjdk-amd64/lib/postgresql-42.5.0.jar\") \\\n",
    "    .getOrCreate()"
   ]
  },
  {
   "cell_type": "code",
   "execution_count": 4,
   "metadata": {},
   "outputs": [],
   "source": [
    "csv = \"/home/kushal/Final_project/Raw_Data/job_descriptions.csv\""
   ]
  },
  {
   "cell_type": "code",
   "execution_count": 5,
   "metadata": {},
   "outputs": [
    {
     "name": "stderr",
     "output_type": "stream",
     "text": [
      "                                                                                \r"
     ]
    }
   ],
   "source": [
    "df = spark.read.csv(csv, header=True, inferSchema=False)"
   ]
  },
  {
   "cell_type": "code",
   "execution_count": 6,
   "metadata": {},
   "outputs": [
    {
     "name": "stdout",
     "output_type": "stream",
     "text": [
      "+----------------+-------------+--------------+------------+--------------------+--------------------+--------+---------+---------+------------+----------------+----------+------------------+--------------------+--------------------+--------------------+-------------------+--------------------+--------------------+--------------------+--------------------+--------------------+--------------------+\n",
      "|          Job Id|   Experience|Qualifications|Salary Range|            location|             Country|latitude|longitude|Work Type|Company Size|Job Posting Date|Preference|    Contact Person|             Contact|           Job Title|                Role|         Job Portal|     Job Description|            Benefits|              skills|    Responsibilities|             Company|     Company Profile|\n",
      "+----------------+-------------+--------------+------------+--------------------+--------------------+--------+---------+---------+------------+----------------+----------+------------------+--------------------+--------------------+--------------------+-------------------+--------------------+--------------------+--------------------+--------------------+--------------------+--------------------+\n",
      "|1089843540111562|5 to 15 Years|        M.Tech|   $59K-$99K|             Douglas|         Isle of Man| 54.2361|  -4.5481|   Intern|       26801|      2022-04-24|    Female|Brandon Cunningham|001-381-930-7517x737|Digital Marketing...|Social Media Manager|           Snagajob|Social Media Mana...|{'Flexible Spendi...|Social media plat...|Manage and grow s...|   Icahn Enterprises|\"{\"\"Sector\"\":\"\"Di...|\n",
      "| 398454096642776|2 to 12 Years|           BCA|  $56K-$116K|            Ashgabat|        Turkmenistan| 38.9697|  59.5563|   Intern|      100340|      2022-12-19|    Female|  Francisco Larsen|        461-509-4216|       Web Developer|Frontend Web Deve...|           Idealist|Frontend Web Deve...|{'Health Insuranc...|HTML, CSS, JavaSc...|Design and code u...|PNC Financial Ser...|\"{\"\"Sector\"\":\"\"Fi...|\n",
      "| 481640072963533|0 to 12 Years|           PhD|  $61K-$104K|               Macao|    Macao SAR, China| 22.1987| 113.5439|Temporary|       84525|      2022-09-14|      Male|       Gary Gibson|          9687619505|  Operations Manager|Quality Control M...|       Jobs2Careers|Quality Control M...|{'Legal Assistanc...|Quality control p...|Establish and enf...|United Services A...|\"{\"\"Sector\"\":\"\"In...|\n",
      "| 688192671473044|4 to 11 Years|           PhD|   $65K-$91K|          Porto-Novo|               Benin|  9.3077|   2.3158|Full-Time|      129896|      2023-02-25|    Female|        Joy Lucero|+1-820-643-5431x4...|    Network Engineer|Wireless Network ...|           FlexJobs|Wireless Network ...|{'Transportation ...|Wireless network ...|Design, configure...|                Hess|\"{\"\"Sector\"\":\"\"En...|\n",
      "| 117057806156508|1 to 12 Years|           MBA|   $64K-$87K|            Santiago|               Chile|-35.6751| -71.5429|   Intern|       53944|      2022-10-11|    Female|     Julie Johnson|   343.975.4702x9340|       Event Manager|  Conference Manager|       Jobs2Careers|A Conference Mana...|{'Flexible Spendi...|Event planning Co...|Specialize in con...|        Cairn Energy|\"{\"\"Sector\"\":\"\"En...|\n",
      "| 116831420231957|4 to 12 Years|           MCA|   $59K-$93K|            Brussels|             Belgium| 50.5039|   4.4699|Full-Time|       23196|      2023-07-25|      Male|      Matthew Gill| (973)791-5355x52199|     Software Tester|Quality Assurance...|           Snagajob|A Quality Assuran...|{'Life and Disabi...|Quality assurance...|Test software app...|Adani Ports and S...|\"{\"\"Sector\"\":\"\"In...|\n",
      "|1292168246729889|3 to 15 Years|           PhD|  $63K-$103K|         George Town|      Cayman Islands| 19.3133| -81.2546|Temporary|       26119|      2023-04-10|      Both|    Zachary Hansen|001-268-510-4362x789|             Teacher|   Classroom Teacher|           FlexJobs|A Classroom Teach...|{'Flexible Spendi...|Teaching pedagogy...|Plan and deliver ...|               FedEx|\"{\"\"Sector\"\":\"\"Lo...|\n",
      "|1498778686197107| 2 to 8 Years|         M.Com|  $65K-$102K|          SÃ£o TomÃ©|Sao Tome and Prin...|  0.1864|   6.6131| Contract|       40558|      2022-09-20|    Female|   Chad Strickland|  667.202.6824x15893|      UX/UI Designer|User Interface De...|             Indeed|User Interface De...|{'Employee Assist...|UI design princip...|Create visually a...|        Ryder System|\"{\"\"Sector\"\":\"\"Tr...|\n",
      "|1680293940995740| 2 to 9 Years|           BBA|  $65K-$102K|                Male|            Maldives|  3.2028|  73.2207|Temporary|      105343|      2022-02-19|    Female|      David Hanson| +1-337-946-9956x550|      UX/UI Designer|Interaction Designer|             Indeed|Interaction Desig...|{'Transportation ...|Interaction desig...|Work on interacti...|Zee Entertainment...|\"{\"\"Sector\"\":\"\"Me...|\n",
      "| 255627812588102|1 to 10 Years|           BBA|   $60K-$80K|        Saint John's| Antigua and Barbuda| 17.0608| -61.7964|Full-Time|      102069|      2022-05-13|      Both|       John Nguyen|001-318-990-0531x978|     Wedding Planner|  Wedding Consultant|Stack Overflow Jobs|A Wedding Consult...|{'Legal Assistanc...|Wedding planning ...|Offer expert advi...|                 CSX|\"{\"\"Sector\"\":\"\"Tr...|\n",
      "|2696958764033354|3 to 10 Years|           BCA|  $57K-$104K|              Manama|             Bahrain| 26.0667|  50.5577| Contract|      130338|      2023-07-01|    Female|      John Collier|    001-683-879-1350|          QA Analyst|Performance Testi...|          Glassdoor|Performance Testi...|{'Flexible Spendi...|Performance testi...|Focus on performa...|          McDonald's|\"{\"\"Sector\"\":\"\"Fo...|\n",
      "|1446194141960546|4 to 12 Years|        B.Tech|   $64K-$98K|The City of Hamilton|             Bermuda| 32.3078| -64.7505| Contract|      117285|      2021-10-11|      Male|     Tammy Carroll|    001-388-421-1960| Litigation Attorney| Family Law Attorney|Stack Overflow Jobs|Family Law Attorn...|{'Employee Referr...|Family law Divorc...|Specialize in fam...|         TPG Telecom|\"{\"\"Sector\"\":\"\"Te...|\n",
      "|1914121205954296|3 to 15 Years|           MCA|  $65K-$122K|            Kingston|             Jamaica| 18.1096| -77.2975|Part-Time|       79071|      2022-01-17|      Both|   Jennifer Moreno|        200-851-9382| Mechanical Engineer|Mechanical Design...|Stack Overflow Jobs|Mechanical Design...|{'Tuition Reimbur...|Mechanical engine...|Design mechanical...|     ThyssenKrupp AG|\"{\"\"Sector\"\":\"\"Ma...|\n",
      "| 290761760113904| 1 to 8 Years|         B.Com|   $56K-$86K|              Banjul|              Gambia| 13.4432| -15.3101|Temporary|      127900|      2022-05-24|    Female|     Lisa Franklin|  (229)625-8850x6916|Network Administr...|Network Security ...|           FlexJobs|Protect an organi...|{'Legal Assistanc...|Network security ...|Manage and secure...|    EnLink Midstream|\"{\"\"Sector\"\":\"\"En...|\n",
      "|1627539131873813| 1 to 9 Years|           MCA|   $57K-$98K|            Damascus|Syrian Arab Republic| 34.8021|  38.9968|Full-Time|       92128|      2022-03-01|      Male|        Adam White|    001-805-834-6153|     Account Manager|Sales Account Man...|            USAJOBS|A Sales Account M...|{'Casual Dress Co...|Account managemen...|Manage sales acco...| NGL Energy Partners|\"{\"\"Sector\"\":\"\"En...|\n",
      "|2691974960988857|4 to 12 Years|         M.Com|  $65K-$100K|               Sanaa|               Yemen| 15.5527|  48.5164|Part-Time|       92028|      2023-08-25|      Male|    Michael Graham|    001-609-517-5993|       Brand Manager|Product Brand Man...|        SimplyHired|A Product Brand M...|{'Health Insuranc...|Product branding ...|Manage the brandi...|            Bayer AG|\"{\"\"Sector\"\":\"\"Ph...|\n",
      "|2823887164112482|5 to 14 Years|        M.Tech|   $60K-$83K|          San Marino|          San Marino| 43.9424|  12.4578|Part-Time|       49100|      2022-04-19|      Male|   Samuel Peterson|       (434)560-6482|       Social Worker|School Social Worker|          Glassdoor|Support students ...|{'Health Insuranc...|School social wor...|Collaborate with ...|               Deere|\"{\"\"Sector\"\":\"\"In...|\n",
      "|  76902098772934|0 to 11 Years|            BA|  $55K-$117K|             Papeete|    French Polynesia|-17.6797|-149.4068|Full-Time|       29318|      2022-05-18|      Male|    Benjamin Lopez| (331)668-1212x28407|Social Media Coor...|     Content Creator|       Jobs2Careers|Create engaging a...|{'Casual Dress Co...|Content creation ...|Create compelling...|Mondelez Internat...|\"{\"\"Sector\"\":\"\"Fo...|\n",
      "| 235216486127884|3 to 12 Years|            BA|  $55K-$121K|               Seoul|         North Korea| 40.3399| 127.5101| Contract|      126630|      2021-12-29|    Female|     Adam Anderson|    459-591-7982x348|Email Marketing S...|Deliverability An...|    Internships.com|Monitor and impro...|{'Employee Referr...|Email deliverabil...|Focus on email de...|                  3M|\"{\"\"Sector\"\":\"\"Co...|\n",
      "| 407980927519454| 5 to 9 Years|           PhD|  $65K-$128K|            Kinshasa|Democratic Republ...| -4.0383|  21.7587|Temporary|       48199|      2022-07-27|    Female|        Jason Cook|  (961)330-3515x6191|       HR Generalist|      HR Coordinator|           Snagajob|HR Coordinators a...|{'Health Insuranc...|Human resources R...|Assist with recru...|                 KKR|\"{\"\"Sector\"\":\"\"Fi...|\n",
      "+----------------+-------------+--------------+------------+--------------------+--------------------+--------+---------+---------+------------+----------------+----------+------------------+--------------------+--------------------+--------------------+-------------------+--------------------+--------------------+--------------------+--------------------+--------------------+--------------------+\n",
      "only showing top 20 rows\n",
      "\n"
     ]
    }
   ],
   "source": [
    "df.show()"
   ]
  },
  {
   "cell_type": "code",
   "execution_count": 7,
   "metadata": {},
   "outputs": [
    {
     "data": {
      "text/plain": [
       "DataFrame[Job Id: string, Experience: string, Qualifications: string, Salary Range: string, location: string, Country: string, latitude: string, longitude: string, Work Type: string, Company Size: string, Job Posting Date: string, Preference: string, Contact Person: string, Contact: string, Job Title: string, Role: string, Job Portal: string, Job Description: string, Benefits: string, skills: string, Responsibilities: string, Company: string, Company Profile: string]"
      ]
     },
     "execution_count": 7,
     "metadata": {},
     "output_type": "execute_result"
    }
   ],
   "source": [
    "df.persist()"
   ]
  },
  {
   "cell_type": "code",
   "execution_count": 8,
   "metadata": {},
   "outputs": [],
   "source": [
    "dropped = [\"Contact Person\", \"Contact\", \"Benefits\",\"Company Profile\"]"
   ]
  },
  {
   "cell_type": "code",
   "execution_count": 9,
   "metadata": {},
   "outputs": [],
   "source": [
    "df = df.drop(*dropped)"
   ]
  },
  {
   "cell_type": "code",
   "execution_count": 10,
   "metadata": {},
   "outputs": [
    {
     "name": "stderr",
     "output_type": "stream",
     "text": [
      "[Stage 2:>                                                          (0 + 1) / 1]\r"
     ]
    },
    {
     "name": "stdout",
     "output_type": "stream",
     "text": [
      "+----------------+-------------+--------------+------------+--------------------+--------------------+--------+---------+---------+------------+----------------+----------+--------------------+--------------------+-------------------+--------------------+--------------------+--------------------+--------------------+\n",
      "|          Job Id|   Experience|Qualifications|Salary Range|            location|             Country|latitude|longitude|Work Type|Company Size|Job Posting Date|Preference|           Job Title|                Role|         Job Portal|     Job Description|              skills|    Responsibilities|             Company|\n",
      "+----------------+-------------+--------------+------------+--------------------+--------------------+--------+---------+---------+------------+----------------+----------+--------------------+--------------------+-------------------+--------------------+--------------------+--------------------+--------------------+\n",
      "|1089843540111562|5 to 15 Years|        M.Tech|   $59K-$99K|             Douglas|         Isle of Man| 54.2361|  -4.5481|   Intern|       26801|      2022-04-24|    Female|Digital Marketing...|Social Media Manager|           Snagajob|Social Media Mana...|Social media plat...|Manage and grow s...|   Icahn Enterprises|\n",
      "| 398454096642776|2 to 12 Years|           BCA|  $56K-$116K|            Ashgabat|        Turkmenistan| 38.9697|  59.5563|   Intern|      100340|      2022-12-19|    Female|       Web Developer|Frontend Web Deve...|           Idealist|Frontend Web Deve...|HTML, CSS, JavaSc...|Design and code u...|PNC Financial Ser...|\n",
      "| 481640072963533|0 to 12 Years|           PhD|  $61K-$104K|               Macao|    Macao SAR, China| 22.1987| 113.5439|Temporary|       84525|      2022-09-14|      Male|  Operations Manager|Quality Control M...|       Jobs2Careers|Quality Control M...|Quality control p...|Establish and enf...|United Services A...|\n",
      "| 688192671473044|4 to 11 Years|           PhD|   $65K-$91K|          Porto-Novo|               Benin|  9.3077|   2.3158|Full-Time|      129896|      2023-02-25|    Female|    Network Engineer|Wireless Network ...|           FlexJobs|Wireless Network ...|Wireless network ...|Design, configure...|                Hess|\n",
      "| 117057806156508|1 to 12 Years|           MBA|   $64K-$87K|            Santiago|               Chile|-35.6751| -71.5429|   Intern|       53944|      2022-10-11|    Female|       Event Manager|  Conference Manager|       Jobs2Careers|A Conference Mana...|Event planning Co...|Specialize in con...|        Cairn Energy|\n",
      "| 116831420231957|4 to 12 Years|           MCA|   $59K-$93K|            Brussels|             Belgium| 50.5039|   4.4699|Full-Time|       23196|      2023-07-25|      Male|     Software Tester|Quality Assurance...|           Snagajob|A Quality Assuran...|Quality assurance...|Test software app...|Adani Ports and S...|\n",
      "|1292168246729889|3 to 15 Years|           PhD|  $63K-$103K|         George Town|      Cayman Islands| 19.3133| -81.2546|Temporary|       26119|      2023-04-10|      Both|             Teacher|   Classroom Teacher|           FlexJobs|A Classroom Teach...|Teaching pedagogy...|Plan and deliver ...|               FedEx|\n",
      "|1498778686197107| 2 to 8 Years|         M.Com|  $65K-$102K|          SÃ£o TomÃ©|Sao Tome and Prin...|  0.1864|   6.6131| Contract|       40558|      2022-09-20|    Female|      UX/UI Designer|User Interface De...|             Indeed|User Interface De...|UI design princip...|Create visually a...|        Ryder System|\n",
      "|1680293940995740| 2 to 9 Years|           BBA|  $65K-$102K|                Male|            Maldives|  3.2028|  73.2207|Temporary|      105343|      2022-02-19|    Female|      UX/UI Designer|Interaction Designer|             Indeed|Interaction Desig...|Interaction desig...|Work on interacti...|Zee Entertainment...|\n",
      "| 255627812588102|1 to 10 Years|           BBA|   $60K-$80K|        Saint John's| Antigua and Barbuda| 17.0608| -61.7964|Full-Time|      102069|      2022-05-13|      Both|     Wedding Planner|  Wedding Consultant|Stack Overflow Jobs|A Wedding Consult...|Wedding planning ...|Offer expert advi...|                 CSX|\n",
      "|2696958764033354|3 to 10 Years|           BCA|  $57K-$104K|              Manama|             Bahrain| 26.0667|  50.5577| Contract|      130338|      2023-07-01|    Female|          QA Analyst|Performance Testi...|          Glassdoor|Performance Testi...|Performance testi...|Focus on performa...|          McDonald's|\n",
      "|1446194141960546|4 to 12 Years|        B.Tech|   $64K-$98K|The City of Hamilton|             Bermuda| 32.3078| -64.7505| Contract|      117285|      2021-10-11|      Male| Litigation Attorney| Family Law Attorney|Stack Overflow Jobs|Family Law Attorn...|Family law Divorc...|Specialize in fam...|         TPG Telecom|\n",
      "|1914121205954296|3 to 15 Years|           MCA|  $65K-$122K|            Kingston|             Jamaica| 18.1096| -77.2975|Part-Time|       79071|      2022-01-17|      Both| Mechanical Engineer|Mechanical Design...|Stack Overflow Jobs|Mechanical Design...|Mechanical engine...|Design mechanical...|     ThyssenKrupp AG|\n",
      "| 290761760113904| 1 to 8 Years|         B.Com|   $56K-$86K|              Banjul|              Gambia| 13.4432| -15.3101|Temporary|      127900|      2022-05-24|    Female|Network Administr...|Network Security ...|           FlexJobs|Protect an organi...|Network security ...|Manage and secure...|    EnLink Midstream|\n",
      "|1627539131873813| 1 to 9 Years|           MCA|   $57K-$98K|            Damascus|Syrian Arab Republic| 34.8021|  38.9968|Full-Time|       92128|      2022-03-01|      Male|     Account Manager|Sales Account Man...|            USAJOBS|A Sales Account M...|Account managemen...|Manage sales acco...| NGL Energy Partners|\n",
      "|2691974960988857|4 to 12 Years|         M.Com|  $65K-$100K|               Sanaa|               Yemen| 15.5527|  48.5164|Part-Time|       92028|      2023-08-25|      Male|       Brand Manager|Product Brand Man...|        SimplyHired|A Product Brand M...|Product branding ...|Manage the brandi...|            Bayer AG|\n",
      "|2823887164112482|5 to 14 Years|        M.Tech|   $60K-$83K|          San Marino|          San Marino| 43.9424|  12.4578|Part-Time|       49100|      2022-04-19|      Male|       Social Worker|School Social Worker|          Glassdoor|Support students ...|School social wor...|Collaborate with ...|               Deere|\n",
      "|  76902098772934|0 to 11 Years|            BA|  $55K-$117K|             Papeete|    French Polynesia|-17.6797|-149.4068|Full-Time|       29318|      2022-05-18|      Male|Social Media Coor...|     Content Creator|       Jobs2Careers|Create engaging a...|Content creation ...|Create compelling...|Mondelez Internat...|\n",
      "| 235216486127884|3 to 12 Years|            BA|  $55K-$121K|               Seoul|         North Korea| 40.3399| 127.5101| Contract|      126630|      2021-12-29|    Female|Email Marketing S...|Deliverability An...|    Internships.com|Monitor and impro...|Email deliverabil...|Focus on email de...|                  3M|\n",
      "| 407980927519454| 5 to 9 Years|           PhD|  $65K-$128K|            Kinshasa|Democratic Republ...| -4.0383|  21.7587|Temporary|       48199|      2022-07-27|    Female|       HR Generalist|      HR Coordinator|           Snagajob|HR Coordinators a...|Human resources R...|Assist with recru...|                 KKR|\n",
      "+----------------+-------------+--------------+------------+--------------------+--------------------+--------+---------+---------+------------+----------------+----------+--------------------+--------------------+-------------------+--------------------+--------------------+--------------------+--------------------+\n",
      "only showing top 20 rows\n",
      "\n"
     ]
    },
    {
     "name": "stderr",
     "output_type": "stream",
     "text": [
      "                                                                                \r"
     ]
    }
   ],
   "source": [
    "df.show()"
   ]
  },
  {
   "cell_type": "code",
   "execution_count": 17,
   "metadata": {},
   "outputs": [
    {
     "name": "stdout",
     "output_type": "stream",
     "text": [
      "root\n",
      " |-- Job Id: long (nullable = true)\n",
      " |-- Experience: string (nullable = true)\n",
      " |-- Qualifications: string (nullable = true)\n",
      " |-- Salary Range: string (nullable = true)\n",
      " |-- location: string (nullable = true)\n",
      " |-- Country: string (nullable = true)\n",
      " |-- latitude: float (nullable = true)\n",
      " |-- longitude: float (nullable = true)\n",
      " |-- Work Type: string (nullable = true)\n",
      " |-- Company Size: integer (nullable = true)\n",
      " |-- Job Posting Date: date (nullable = true)\n",
      " |-- Preference: string (nullable = true)\n",
      " |-- Job Title: string (nullable = true)\n",
      " |-- Role: string (nullable = true)\n",
      " |-- Job Portal: string (nullable = true)\n",
      " |-- Job Description: string (nullable = true)\n",
      " |-- skills: string (nullable = true)\n",
      " |-- Responsibilities: string (nullable = true)\n",
      " |-- Company: string (nullable = true)\n",
      "\n"
     ]
    }
   ],
   "source": [
    "df.printSchema()"
   ]
  },
  {
   "cell_type": "code",
   "execution_count": 15,
   "metadata": {},
   "outputs": [],
   "source": [
    "from pyspark.sql.types import LongType, FloatType, IntegerType, DateType"
   ]
  },
  {
   "cell_type": "code",
   "execution_count": 16,
   "metadata": {},
   "outputs": [],
   "source": [
    "df = df.withColumn(\"Job Id\", df[\"Job Id\"].cast(LongType()))\\\n",
    "        .withColumn(\"latitude\", df[\"latitude\"].cast(FloatType()))\\\n",
    "         .withColumn(\"longitude\", df[\"longitude\"].cast(FloatType()))\\\n",
    "          .withColumn(\"Company Size\", df[\"Company Size\"].cast(IntegerType()))\\\n",
    "           .withColumn(\"Job Posting Date\", df[\"Job Posting Date\"].cast(DateType()))"
   ]
  }
 ],
 "metadata": {
  "kernelspec": {
   "display_name": "venv",
   "language": "python",
   "name": "python3"
  },
  "language_info": {
   "codemirror_mode": {
    "name": "ipython",
    "version": 3
   },
   "file_extension": ".py",
   "mimetype": "text/x-python",
   "name": "python",
   "nbconvert_exporter": "python",
   "pygments_lexer": "ipython3",
   "version": "3.10.12"
  },
  "orig_nbformat": 4
 },
 "nbformat": 4,
 "nbformat_minor": 2
}
