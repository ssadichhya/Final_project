{
 "cells": [
  {
   "cell_type": "code",
   "execution_count": 28,
   "metadata": {},
   "outputs": [],
   "source": [
    "from pyspark.sql import SparkSession\n",
    "from pyspark.sql.types import LongType, FloatType, IntegerType, DateType\n",
    "import pyspark.sql.functions as F\n",
    "import re\n",
    "import yaml\n",
    "\n",
    "#define path to your yaml file\n",
    "yaml_file_path= 'config.yaml'\n",
    "\n",
    "with open(yaml_file_path, 'r') as yaml_file:\n",
    "    config = yaml.safe_load(yaml_file)\n",
    "\n",
    "spark = SparkSession \\\n",
    "    .builder \\\n",
    "    .appName(\"final_project\") \\\n",
    "    .master(\"local[*]\")\\\n",
    "    .config(\"spark.executor.memory\", \"2g\")\\\n",
    "    .config(\"spark.jars\", config['spark']['path']) \\\n",
    "    .getOrCreate()"
   ]
  },
  {
   "cell_type": "code",
   "execution_count": 1,
   "metadata": {},
   "outputs": [],
   "source": [
    "def extract():\n",
    "    try:\n",
    "        # CSV path\n",
    "        csv = config['csv']['path']\n",
    "        # Read raw_data\n",
    "        df = spark.read.csv(csv, header=True, inferSchema=False)\n",
    "        return df\n",
    "    except Exception as e:\n",
    "        raise Exception(f\"An error occurred during data extraction: {str(e)}\")\n",
    "        spark.stop()"
   ]
  },
  {
   "cell_type": "code",
   "execution_count": 2,
   "metadata": {},
   "outputs": [],
   "source": [
    "def clean():\n",
    "    try:\n",
    "        df = extract()\n",
    "        # Changing -ve company size to positive\n",
    "        df = df.withColumn(\"Company Size\", F.when(F.col(\"Company Size\") < 0, -F.col(\"Company Size\")).otherwise(F.col(\"Company Size\")))\n",
    "        \n",
    "        # List of columns to drop\n",
    "        dropped = [\"Contact Person\", \"Contact\", \"Benefits\", \"Company Profile\"]\n",
    "        # Drop columns\n",
    "        df = df.drop(*dropped)\n",
    "        \n",
    "        # Changing to standard data types\n",
    "        df = df.withColumn(\"Job Id\", df[\"Job Id\"].cast(LongType()))\\\n",
    "               .withColumn(\"latitude\", df[\"latitude\"].cast(FloatType()))\\\n",
    "               .withColumn(\"longitude\", df[\"longitude\"].cast(FloatType()))\\\n",
    "               .withColumn(\"Company Size\", df[\"Company Size\"].cast(IntegerType()))\\\n",
    "               .withColumn(\"Job Posting Date\", df[\"Job Posting Date\"].cast(DateType()))\n",
    "        \n",
    "        return df\n",
    "    except Exception as e:\n",
    "        raise Exception(f\"An error occurred during data cleaning: {str(e)}\")\n",
    "        spark.stop()"
   ]
  },
  {
   "cell_type": "code",
   "execution_count": 21,
   "metadata": {},
   "outputs": [],
   "source": [
    "#udf to calculate avg\n",
    "def calculate_average(range_str):\n",
    "    # Use regular expression to extract numbers\n",
    "    numbers = re.findall(r'\\d+', range_str)\n",
    "    if len(numbers) == 2:\n",
    "        lower = int(numbers[0])\n",
    "        upper = int(numbers[1])\n",
    "        avg = (lower + upper) / 2\n",
    "        return avg\n",
    "    else:\n",
    "        return None\n"
   ]
  },
  {
   "cell_type": "code",
   "execution_count": 3,
   "metadata": {},
   "outputs": [],
   "source": [
    "def transform():\n",
    "    try:\n",
    "        df=clean()\n",
    "        calculate_average_udf = F.udf(calculate_average)\n",
    "        # Add a new column with the calculated average\n",
    "        new_df = df.withColumn(\"Average\", calculate_average_udf(df[\"Salary Range\"]))\n",
    "        new_df.withColumnRenamed(\"Average\",\"Average Salary\").printSchema()\n",
    "        return new_df\n",
    "\n",
    "    except Exception as e:\n",
    "        raise Exception(f\"An error occurred during data transformation: {str(e)}\")\n",
    "        spark.stop()"
   ]
  },
  {
   "cell_type": "code",
   "execution_count": 4,
   "metadata": {},
   "outputs": [],
   "source": [
    "def load():\n",
    "    try:\n",
    "        new_df=transform()\n",
    "        ##Load the clean data in postgres\n",
    "        new_df.write.format('jdbc').options(url=config['postgres']['url'],driver = config['postgres']['driver'], dbtable = config['postgres']['dbtable'], user=config['postgres']['user'],password=config['postgres']['password']).mode('overwrite').save()\n",
    "        return new_df\n",
    "    except Exception as e:\n",
    "        raise Exception(f\"An error occurred during loading the data: {str(e)}\")\n",
    "        spark.stop()    \n"
   ]
  }
 ],
 "metadata": {
  "kernelspec": {
   "display_name": "venv",
   "language": "python",
   "name": "python3"
  },
  "language_info": {
   "codemirror_mode": {
    "name": "ipython",
    "version": 3
   },
   "file_extension": ".py",
   "mimetype": "text/x-python",
   "name": "python",
   "nbconvert_exporter": "python",
   "pygments_lexer": "ipython3",
   "version": "3.10.12"
  },
  "orig_nbformat": 4
 },
 "nbformat": 4,
 "nbformat_minor": 2
}
