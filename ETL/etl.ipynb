{
 "cells": [
  {
   "cell_type": "code",
   "execution_count": 1,
   "metadata": {},
   "outputs": [
    {
     "name": "stderr",
     "output_type": "stream",
     "text": [
      "23/11/01 12:17:53 WARN Utils: Your hostname, FM-PC-LT-176 resolves to a loopback address: 127.0.1.1; using 172.16.5.4 instead (on interface wlo1)\n",
      "23/11/01 12:17:53 WARN Utils: Set SPARK_LOCAL_IP if you need to bind to another address\n",
      "23/11/01 12:17:53 WARN NativeCodeLoader: Unable to load native-hadoop library for your platform... using builtin-java classes where applicable\n",
      "Setting default log level to \"WARN\".\n",
      "To adjust logging level use sc.setLogLevel(newLevel). For SparkR, use setLogLevel(newLevel).\n"
     ]
    }
   ],
   "source": [
    "from pyspark.sql import SparkSession\n",
    "from pyspark.sql.types import LongType, FloatType, IntegerType, DateType\n",
    "import pyspark.sql.functions as F\n",
    "import re\n",
    "import yaml\n",
    "\n",
    "#define path to your yaml file\n",
    "yaml_file_path= 'config.yaml'\n",
    "\n",
    "with open(yaml_file_path, 'r') as yaml_file:\n",
    "    config = yaml.safe_load(yaml_file)\n",
    "\n",
    "spark = SparkSession \\\n",
    "    .builder \\\n",
    "    .appName(\"final_project\") \\\n",
    "    .master(\"local[*]\")\\\n",
    "    .config(\"spark.executor.memory\", \"2g\")\\\n",
    "    .config(\"spark.jars\", config['spark']['path']) \\\n",
    "    .getOrCreate()"
   ]
  },
  {
   "cell_type": "code",
   "execution_count": 2,
   "metadata": {},
   "outputs": [],
   "source": [
    "def extract():\n",
    "    try:\n",
    "        # CSV path\n",
    "        csv = config['csv']['path']\n",
    "        # Read raw_data\n",
    "        df = spark.read.csv(csv, header=True, inferSchema=False)\n",
    "        return df\n",
    "    except Exception as e:\n",
    "        raise Exception(f\"An error occurred during data extraction: {str(e)}\")\n",
    "        spark.stop()"
   ]
  },
  {
   "cell_type": "code",
   "execution_count": 3,
   "metadata": {},
   "outputs": [
    {
     "name": "stdout",
     "output_type": "stream",
     "text": [
      "+---------------+-------------+--------------+------------+--------+---------------+--------+---------+---------+------------+----------------+----------+--------------+----------------+--------------------+--------------------+-------------------+--------------------+--------------------+--------------------+--------------------+--------------------+--------------------+\n",
      "|         Job Id|   experience|qualifications|Salary Range|location|        country|latitude|longitude|Work Type|Company Size|Job Posting Date|preference|Contact Person|         contact|           Job Title|                Role|         Job Portal|     Job Description|            benefits|              skills|    responsibilities|             company|     Company Profile|\n",
      "+---------------+-------------+--------------+------------+--------+---------------+--------+---------+---------+------------+----------------+----------+--------------+----------------+--------------------+--------------------+-------------------+--------------------+--------------------+--------------------+--------------------+--------------------+--------------------+\n",
      "|750556001849337|1 to 15 Years|           MBA|   $61K-$85K|    Suva|           Fiji|-17.7134|  178.065| Contract|      116756|      2022-02-11|      Male|  Holly Torres|    654-728-2209| Front-End Developer|     UI/UX Developer|             Indeed|A UI/UX Developer...|{'Legal Assistanc...|User interface (U...|Design and implem...|   Jackson Financial|\"{\"\"Sector\"\":\"\"Fi...|\n",
      "| 35160975336498|1 to 13 Years|           BBA|  $56K-$101K|   Rabat|        Morocco| 31.7917|  -7.0926|   Intern|      -90543|      2022-04-30|      Both| Toni Sheppard|      4613544017|        Pediatrician|General Pediatrician|               Dice|General Pediatric...|{'Transportation ...|Pediatrics Pediat...|Provide primary h...|Erie Insurance Group|\"{\"\"Sector\"\":\"\"In...|\n",
      "|226828850189486|3 to 12 Years|        B.Tech|   $61K-$97K| Bishkek|Kyrgyz Republic| 41.2044|  74.7661| Contract|       37286|      2021-10-23|    Female|     Rick Luna|420.386.5399x519|IT Support Specia...|IT Systems Admini...|Stack Overflow Jobs|IT Systems Admini...|{'Casual Dress Co...|Network administr...|Administer and ma...| Tata Communications|\"{\"\"Sector\"\":\"\"Te...|\n",
      "+---------------+-------------+--------------+------------+--------+---------------+--------+---------+---------+------------+----------------+----------+--------------+----------------+--------------------+--------------------+-------------------+--------------------+--------------------+--------------------+--------------------+--------------------+--------------------+\n",
      "only showing top 3 rows\n",
      "\n"
     ]
    }
   ],
   "source": [
    "df=extract()\n",
    "df.show(3)"
   ]
  },
  {
   "cell_type": "code",
   "execution_count": 2,
   "metadata": {},
   "outputs": [],
   "source": [
    "def clean():\n",
    "    try:\n",
    "        df = extract()\n",
    "        # Changing -ve company size to positive\n",
    "        df = df.withColumn(\"Company Size\", F.when(F.col(\"Company Size\") < 0, -F.col(\"Company Size\")).otherwise(F.col(\"Company Size\")))\n",
    "        \n",
    "        # List of columns to drop\n",
    "        dropped = [\"Contact Person\", \"Contact\", \"Benefits\", \"Company Profile\"]\n",
    "        # Drop columns\n",
    "        df = df.drop(*dropped)\n",
    "        \n",
    "        # Changing to standard data types\n",
    "        df = df.withColumn(\"Job Id\", df[\"Job Id\"].cast(LongType()))\\\n",
    "               .withColumn(\"latitude\", df[\"latitude\"].cast(FloatType()))\\\n",
    "               .withColumn(\"longitude\", df[\"longitude\"].cast(FloatType()))\\\n",
    "               .withColumn(\"Company Size\", df[\"Company Size\"].cast(IntegerType()))\\\n",
    "               .withColumn(\"Job Posting Date\", df[\"Job Posting Date\"].cast(DateType()))\n",
    "        \n",
    "        return df\n",
    "    except Exception as e:\n",
    "        raise Exception(f\"An error occurred during data cleaning: {str(e)}\")\n",
    "        spark.stop()"
   ]
  },
  {
   "cell_type": "code",
   "execution_count": 21,
   "metadata": {},
   "outputs": [],
   "source": [
    "#udf to calculate avg\n",
    "def calculate_average(range_str):\n",
    "    # Use regular expression to extract numbers\n",
    "    numbers = re.findall(r'\\d+', range_str)\n",
    "    if len(numbers) == 2:\n",
    "        lower = int(numbers[0])\n",
    "        upper = int(numbers[1])\n",
    "        avg = (lower + upper) / 2\n",
    "        return avg\n",
    "    else:\n",
    "        return None\n"
   ]
  },
  {
   "cell_type": "code",
   "execution_count": 3,
   "metadata": {},
   "outputs": [],
   "source": [
    "def transform():\n",
    "    try:\n",
    "        df=clean()\n",
    "        calculate_average_udf = F.udf(calculate_average)\n",
    "        # Add a new column with the calculated average\n",
    "        new_df = df.withColumn(\"Average\", calculate_average_udf(df[\"Salary Range\"]))\n",
    "        new_df.withColumnRenamed(\"Average\",\"Average Salary\").printSchema()\n",
    "        \n",
    "        # Changing gender preference from \"both\" to \"Male or Female\"\n",
    "        new_df = new_df.withColumn(\"Preference\", when(col(\"Preference\") == \"Both\", \"Male or Female\").otherwise(col(\"Preference\")))\n",
    "        new_df.show()\n",
    "\n",
    "        #Dividing companies into tiers according to the company size\n",
    "\n",
    "        quartiles = df.stat.approxQuantile(\"company size\", [0.25, 0.75], 0.0)\n",
    "        q1, q3 = quartiles\n",
    "        new_df = new_df.withColumn(\"CompanyTier\",\n",
    "        when(col(\"company size\") <= q1, \"Tier-1 (Low)\")\n",
    "        .when((col(\"company size\") > q1) & (col(\"company size\") <= q3), \"Tier-2 (Medium)\")\n",
    "        .when(col(\"company size\") > q3, \"Tier-3 (High)\")\n",
    "        .otherwise(\"Uncategorized\"))\n",
    "\n",
    "\n",
    "        #Dividing jobs into three categories according to their salary.\n",
    "        \n",
    "        quartiles = df.stat.approxQuantile(\"salary\", [0.25, 0.75], 0.0)\n",
    "        q1, q3 = quartiles\n",
    "        updatedDF = df.withColumn(\"SalaryLevel\",\n",
    "        when(col(\"salary\") <= q1, \"Low Pay\")\n",
    "        .when((col(\"salary\") > q1) & (col(\"salary\") <= q3), \"Average Pay\")\n",
    "        .when(col(\"salary\") > q3, \"High Pay\")\n",
    "        .otherwise(\"Uncategorized\"))\n",
    "        \n",
    "\n",
    "        # Differentiate qualifications according to their initials\n",
    "\n",
    "        new_df = new_df.withColumn(\"QualificationCategory\", when(col(\"Qualification\").startswith(\"M\"), \"Masters\")\n",
    "        .when(col(\"Qualification\").startswith(\"B\"), \"Bachelors\")\n",
    "        .when(col(\"Qualification\").startswith(\"P\"), \"PhD\")\n",
    "        .otherwise(\"Uncategorized\"))\n",
    "\n",
    "\n",
    "        return new_df\n",
    "\n",
    "    except Exception as e:\n",
    "        raise Exception(f\"An error occurred during data transformation: {str(e)}\")\n",
    "        spark.stop()"
   ]
  },
  {
   "cell_type": "code",
   "execution_count": 4,
   "metadata": {},
   "outputs": [],
   "source": [
    "def load():\n",
    "    try:\n",
    "        new_df=transform()\n",
    "        ##Load the clean data in postgres\n",
    "        new_df.write.format('jdbc').options(url=config['postgres']['url'],driver = config['postgres']['driver'], dbtable = config['postgres']['dbtable'], user=config['postgres']['user'],password=config['postgres']['password']).mode('overwrite').save()\n",
    "        return new_df\n",
    "    except Exception as e:\n",
    "        raise Exception(f\"An error occurred during loading the data: {str(e)}\")\n",
    "        spark.stop()    \n"
   ]
  }
 ],
 "metadata": {
  "kernelspec": {
   "display_name": "Python (venv)",
   "language": "python",
   "name": "venv"
  },
  "language_info": {
   "codemirror_mode": {
    "name": "ipython",
    "version": 3
   },
   "file_extension": ".py",
   "mimetype": "text/x-python",
   "name": "python",
   "nbconvert_exporter": "python",
   "pygments_lexer": "ipython3",
   "version": "3.10.12"
  },
  "orig_nbformat": 4
 },
 "nbformat": 4,
 "nbformat_minor": 2
}
