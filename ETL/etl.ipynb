{
 "cells": [
  {
   "cell_type": "code",
   "execution_count": 5,
   "metadata": {},
   "outputs": [],
   "source": [
    "from pyspark.sql import SparkSession\n",
    "from pyspark.sql.types import LongType, FloatType, IntegerType, DateType, MapType\n",
    "import pyspark.sql.functions as F\n",
    "import re\n",
    "import yaml\n",
    "\n",
    "#define path to your yaml file\n",
    "yaml_file_path= 'config.yaml'\n",
    "\n",
    "with open(yaml_file_path, 'r') as yaml_file:\n",
    "    config = yaml.safe_load(yaml_file)\n",
    "\n",
    "spark = SparkSession \\\n",
    "    .builder \\\n",
    "    .appName(\"final_project\") \\\n",
    "    .config(\"spark.jars\", config['spark']['path']) \\\n",
    "    .getOrCreate()"
   ]
  },
  {
   "cell_type": "code",
   "execution_count": 6,
   "metadata": {},
   "outputs": [],
   "source": [
    "def extract():\n",
    "    try:\n",
    "        # CSV path\n",
    "        csv = config['csv']['path']\n",
    "        # Read raw_data\n",
    "        df = spark.read.csv(csv, header=True, inferSchema=False)\n",
    "        return df\n",
    "    except Exception as e:\n",
    "        raise Exception(f\"An error occurred during data extraction: {str(e)}\")\n",
    "        spark.stop()"
   ]
  },
  {
   "cell_type": "code",
   "execution_count": 7,
   "metadata": {},
   "outputs": [
    {
     "name": "stderr",
     "output_type": "stream",
     "text": [
      "                                                                                \r"
     ]
    },
    {
     "name": "stdout",
     "output_type": "stream",
     "text": [
      "+--------------------------------------+\n",
      "|Company Profile                       |\n",
      "+--------------------------------------+\n",
      "|\"{\"\"Sector\"\":\"\"Financial Services\"\"   |\n",
      "|\"{\"\"Sector\"\":\"\"Insurance\"\"            |\n",
      "|\"{\"\"Sector\"\":\"\"Telecommunications\"\"   |\n",
      "|\"{\"\"Sector\"\":\"\"Electronics\"\"          |\n",
      "|\"{\"\"Sector\"\":\"\"Industrial\"\"           |\n",
      "|\"{\"\"Sector\"\":\"\"Healthcare\"\"           |\n",
      "|\"{\"\"Sector\"\":\"\"Retail\"\"               |\n",
      "|\"{\"\"Sector\"\":\"\"Retail\"\"               |\n",
      "|\"{\"\"Sector\"\":\"\"Energy\"\"               |\n",
      "|\"{\"\"Sector\"\":\"\"Automotive Parts\"\"     |\n",
      "|\"{\"\"Sector\"\":\"\"IT Services\"\"          |\n",
      "|\"{\"\"Sector\"\":\"\"Financial Technology\"\" |\n",
      "|\"{\"\"Sector\"\":\"\"Waste Management\"\"     |\n",
      "|\"{\"\"Sector\"\":\"\"Financial Services\"\"   |\n",
      "|\"{\"\"Sector\"\":\"\"Food and Beverage\"\"    |\n",
      "|\"{\"\"Sector\"\":\"\"Mining\"\"               |\n",
      "|\"{\"\"Sector\"\":\"\"Healthcare\"\"           |\n",
      "|\"{\"\"Sector\"\":\"\"Healthcare\"\"           |\n",
      "|\"{\"\"Sector\"\":\"\"Real Estate/Logistics\"\"|\n",
      "|\"{\"\"Sector\"\":\"\"Real Estate\"\"          |\n",
      "+--------------------------------------+\n",
      "only showing top 20 rows\n",
      "\n"
     ]
    }
   ],
   "source": [
    "df=extract()\n",
    "df.select(\"Company Profile\").show(truncate=False)"
   ]
  },
  {
   "cell_type": "code",
   "execution_count": 17,
   "metadata": {},
   "outputs": [],
   "source": [
    "def clean():\n",
    "    try:\n",
    "        df = extract()\n",
    "        # Changing -ve company size to positive\n",
    "        df = df.withColumn(\"Company Size\", F.when(F.col(\"Company Size\") < 0, -F.col(\"Company Size\")).otherwise(F.col(\"Company Size\")))\n",
    "        \n",
    "        # List of columns to drop\n",
    "        dropped = [\"Contact Person\", \"Contact\", \"Benefits\"]\n",
    "        # Drop columns\n",
    "        df = df.drop(*dropped)\n",
    "        \n",
    "        # Changing to standard data types\n",
    "        df = df.withColumn(\"Job Id\", df[\"Job Id\"].cast(LongType()))\\\n",
    "               .withColumn(\"latitude\", df[\"latitude\"].cast(FloatType()))\\\n",
    "               .withColumn(\"longitude\", df[\"longitude\"].cast(FloatType()))\\\n",
    "               .withColumn(\"Company Size\", df[\"Company Size\"].cast(IntegerType()))\\\n",
    "               .withColumn(\"Job Posting Date\", df[\"Job Posting Date\"].cast(DateType()))\n",
    "        \n",
    "        # sector_pattern = r'\"Sector\":\"([^\"]+)\"'\n",
    "\n",
    "        # # Use regexp_extract to extract the value of \"Sector\" into a new column \"Sector\"\n",
    "        # df = df.withColumn(\"Sector\", F.regexp_extract(df[\"Company Profile\"], sector_pattern, 1))\n",
    "        df = df.withColumn(\"Sector\", F.substring_index(F.col(\"Company Profile\"), '\":\"', -1))\n",
    "        df = df.withColumn(\"Sector\", F.regexp_replace(F.col(\"Sector\"), '\"', ''))\n",
    "        df=df.drop(\"Company Profile\")\n",
    "\n",
    "\n",
    "\n",
    "\n",
    "        return df\n",
    "    except Exception as e:\n",
    "        raise Exception(f\"An error occurred during data cleaning: {str(e)}\")\n",
    "        spark.stop()"
   ]
  },
  {
   "cell_type": "code",
   "execution_count": 18,
   "metadata": {},
   "outputs": [
    {
     "name": "stdout",
     "output_type": "stream",
     "text": [
      "+----------------+-------------+--------------+------------+------------------+---------------+--------+---------+---------+------------+----------------+----------+--------------------+--------------------+-------------------+--------------------+--------------------+--------------------+--------------------+------------------+\n",
      "|          Job Id|   experience|qualifications|Salary Range|          location|        country|latitude|longitude|Work Type|Company Size|Job Posting Date|preference|           Job Title|                Role|         Job Portal|     Job Description|              skills|    responsibilities|             company|            Sector|\n",
      "+----------------+-------------+--------------+------------+------------------+---------------+--------+---------+---------+------------+----------------+----------+--------------------+--------------------+-------------------+--------------------+--------------------+--------------------+--------------------+------------------+\n",
      "| 750556001849337|1 to 15 Years|           MBA|   $61K-$85K|              Suva|           Fiji|-17.7134|  178.065| Contract|      116756|      2022-02-11|      Male| Front-End Developer|     UI/UX Developer|             Indeed|A UI/UX Developer...|User interface (U...|Design and implem...|   Jackson Financial|Financial Services|\n",
      "|  35160975336498|1 to 13 Years|           BBA|  $56K-$101K|             Rabat|        Morocco| 31.7917|  -7.0926|   Intern|       90543|      2022-04-30|      Both|        Pediatrician|General Pediatrician|               Dice|General Pediatric...|Pediatrics Pediat...|Provide primary h...|Erie Insurance Group|         Insurance|\n",
      "| 226828850189486|3 to 12 Years|        B.Tech|   $61K-$97K|           Bishkek|Kyrgyz Republic| 41.2044|  74.7661| Contract|       37286|      2021-10-23|    Female|IT Support Specia...|IT Systems Admini...|Stack Overflow Jobs|IT Systems Admini...|Network administr...|Administer and ma...| Tata Communications|Telecommunications|\n",
      "|2181795420055381|1 to 12 Years|        M.Tech|   $60K-$93K|        Porto-Novo|          Benin|  9.3077|   2.3158|Full-Time|       34863|      2022-02-21|      Both|    Registered Nurse|         Staff Nurse|        SimplyHired|A Staff Nurse pro...|Nursing care Pati...|Provide direct pa...|            Amphenol|       Electronics|\n",
      "|1755044933676954|0 to 11 Years|           BCA|  $57K-$124K|           Tbilisi|        Georgia| 42.3154|  43.3569|Part-Time|       47150|      2021-11-08|    Female|Social Media Coor...|     Content Creator|    Internships.com|Create engaging a...|Content creation ...|Create compelling...|      Avery Dennison|        Industrial|\n",
      "|1701938942801255|4 to 11 Years|         B.Com|  $62K-$102K|            Moscow|         Russia|  61.524| 105.3188| Contract|       15465|      2022-01-25|    Female|Customer Support ...|Customer Success ...|            USAJOBS|Customer Success ...|Customer relation...|Build and maintai...|Bristol-Myers Squibb|        Healthcare|\n",
      "|1549187090001553| 4 to 9 Years|           PhD|  $58K-$124K|            Dodoma|       Tanzania|  -6.369|  34.8888|Temporary|       82468|      2023-01-16|    Female|Public Relations ...|Media Relations S...|            Monster|Media Relations S...|Media relations P...|Manage relationsh...|          Albertsons|            Retail|\n",
      "|1985420468865688|3 to 15 Years|         M.Com|   $65K-$88K|          Brasilia|         Brazil| -14.235| -51.9253|   Intern|      100133|      2023-08-25|      Both|Market Research A...|   Market Researcher|               Dice|A Market Research...|Market research m...|Research market t...|   Burlington Stores|            Retail|\n",
      "| 824108570821616| 4 to 8 Years|           BCA|  $64K-$113K|        Libreville|          Gabon| -0.8037|  11.6094|Full-Time|       81460|      2022-04-13|      Male|    Network Engineer|Network Security ...|        SimplyHired|Network Security ...|Network security ...|Focus on network ...| NGL Energy Partners|            Energy|\n",
      "|2682227177958709|3 to 14 Years|           MBA|  $60K-$126K|City of Port Louis|      Mauritius|-20.3484|  57.5522|Part-Time|       40269|      2023-06-18|      Both|      HR Coordinator|Training Coordinator|           The Muse|Training Coordina...|Training program ...|Coordinate employ...|            AutoZone|  Automotive Parts|\n",
      "+----------------+-------------+--------------+------------+------------------+---------------+--------+---------+---------+------------+----------------+----------+--------------------+--------------------+-------------------+--------------------+--------------------+--------------------+--------------------+------------------+\n",
      "only showing top 10 rows\n",
      "\n"
     ]
    }
   ],
   "source": [
    "dff=clean()\n",
    "# dff.select('Sector').show(truncate=False)\n",
    "dff.show(10)"
   ]
  },
  {
   "cell_type": "code",
   "execution_count": 19,
   "metadata": {},
   "outputs": [],
   "source": [
    "#udf to calculate avg\n",
    "def calculate_average(range_str):\n",
    "    # Use regular expression to extract numbers\n",
    "    numbers = re.findall(r'\\d+', range_str)\n",
    "    if len(numbers) == 2:\n",
    "        lower = int(numbers[0])\n",
    "        upper = int(numbers[1])\n",
    "        avg = (lower + upper) / 2\n",
    "        return avg\n",
    "    else:\n",
    "        return None\n"
   ]
  },
  {
   "cell_type": "code",
   "execution_count": 20,
   "metadata": {},
   "outputs": [],
   "source": [
    "def transform():\n",
    "    try:\n",
    "        df=clean()\n",
    "        calculate_average_udf = F.udf(calculate_average)\n",
    "        # Add a new column with the calculated average\n",
    "        new_df = df.withColumn(\"Average\", calculate_average_udf(df[\"Salary Range\"]))\n",
    "        new_df = new_df.withColumnRenamed(\"Average\",\"Average Salary\")\n",
    "        new_df = new_df.withColumn(\"Average Salary\",  \n",
    "                                  new_df[\"Average Salary\"] \n",
    "                                  .cast('int')) \n",
    "\n",
    "        \n",
    "        # Changing gender preference from \"both\" to \"Male or Female\"\n",
    "        new_df = new_df.withColumn(\"Preference\", F.when(F.col(\"Preference\") == \"Both\", \"Male or Female\").otherwise(F.col(\"Preference\")))\n",
    "        new_df.show()\n",
    "\n",
    "        #Dividing companies into tiers according to the company size\n",
    "\n",
    "        quartiles = new_df.stat.approxQuantile(\"company size\", [0.25, 0.75], 0.0)\n",
    "        q1, q3 = quartiles\n",
    "        new_df = new_df.withColumn(\"CompanyTier\",\n",
    "        F.when(F.col(\"company size\") <= q1, \"Tier-1 (Low)\")\n",
    "        .when((F.col(\"company size\") > q1) & (F.col(\"company size\") <= q3), \"Tier-2 (Medium)\")\n",
    "        .when(F.col(\"company size\") > q3, \"Tier-3 (High)\")\n",
    "        .otherwise(\"Uncategorized\"))\n",
    "\n",
    "\n",
    "        #Dividing jobs into three categories according to their salary.\n",
    "        \n",
    "        quartiles = new_df.stat.approxQuantile(\"Average Salary\", [0.25, 0.75], 0.0)\n",
    "        q1, q3 = quartiles\n",
    "        new_df = new_df.withColumn(\"SalaryLevel\",\n",
    "        F.when(F.col(\"Average Salary\") <= q1, \"Low Pay\")\n",
    "        .when((F.col(\"Average Salary\") > q1) & (F.col(\"Average Salary\") <= q3), \"Average Pay\")\n",
    "        .when(F.col(\"Average Salary\") > q3, \"High Pay\")\n",
    "        .otherwise(\"Uncategorized\"))\n",
    "        \n",
    "\n",
    "        # Differentiate qualifications according to their initials\n",
    "\n",
    "        new_df = new_df.withColumn(\"QualificationCategory\", F.when(F.col(\"qualifications\").startswith(\"M\"), \"Masters\")\n",
    "        .when(F.col(\"qualifications\").startswith(\"B\"), \"Bachelors\")\n",
    "        .when(F.col(\"qualifications\").startswith(\"P\"), \"PhD\")\n",
    "        .otherwise(\"Uncategorized\"))\n",
    "\n",
    "\n",
    "        return new_df\n",
    "\n",
    "    except Exception as e:\n",
    "        raise Exception(f\"An error occurred during data transformation: {str(e)}\")\n",
    "        spark.stop()"
   ]
  },
  {
   "cell_type": "code",
   "execution_count": 41,
   "metadata": {},
   "outputs": [
    {
     "name": "stderr",
     "output_type": "stream",
     "text": [
      "                                                                                \r"
     ]
    },
    {
     "name": "stdout",
     "output_type": "stream",
     "text": [
      "+----------------+-------------+--------------+------------+--------------------+---------------+--------+---------+---------+------------+----------------+--------------+--------------------+--------------------+-------------------+--------------------+--------------------+--------------------+--------------------+--------------------+--------------+\n",
      "|          Job Id|   experience|qualifications|Salary Range|            location|        country|latitude|longitude|Work Type|Company Size|Job Posting Date|    Preference|           Job Title|                Role|         Job Portal|     Job Description|              skills|    responsibilities|             company|     Company Profile|Average Salary|\n",
      "+----------------+-------------+--------------+------------+--------------------+---------------+--------+---------+---------+------------+----------------+--------------+--------------------+--------------------+-------------------+--------------------+--------------------+--------------------+--------------------+--------------------+--------------+\n",
      "| 750556001849337|1 to 15 Years|           MBA|   $61K-$85K|                Suva|           Fiji|-17.7134|  178.065| Contract|      116756|      2022-02-11|          Male| Front-End Developer|     UI/UX Developer|             Indeed|A UI/UX Developer...|User interface (U...|Design and implem...|   Jackson Financial|\"{\"\"Sector\"\":\"\"Fi...|            73|\n",
      "|  35160975336498|1 to 13 Years|           BBA|  $56K-$101K|               Rabat|        Morocco| 31.7917|  -7.0926|   Intern|       90543|      2022-04-30|Male or Female|        Pediatrician|General Pediatrician|               Dice|General Pediatric...|Pediatrics Pediat...|Provide primary h...|Erie Insurance Group|\"{\"\"Sector\"\":\"\"In...|            78|\n",
      "| 226828850189486|3 to 12 Years|        B.Tech|   $61K-$97K|             Bishkek|Kyrgyz Republic| 41.2044|  74.7661| Contract|       37286|      2021-10-23|        Female|IT Support Specia...|IT Systems Admini...|Stack Overflow Jobs|IT Systems Admini...|Network administr...|Administer and ma...| Tata Communications|\"{\"\"Sector\"\":\"\"Te...|            79|\n",
      "|2181795420055381|1 to 12 Years|        M.Tech|   $60K-$93K|          Porto-Novo|          Benin|  9.3077|   2.3158|Full-Time|       34863|      2022-02-21|Male or Female|    Registered Nurse|         Staff Nurse|        SimplyHired|A Staff Nurse pro...|Nursing care Pati...|Provide direct pa...|            Amphenol|\"{\"\"Sector\"\":\"\"El...|            76|\n",
      "|1755044933676954|0 to 11 Years|           BCA|  $57K-$124K|             Tbilisi|        Georgia| 42.3154|  43.3569|Part-Time|       47150|      2021-11-08|        Female|Social Media Coor...|     Content Creator|    Internships.com|Create engaging a...|Content creation ...|Create compelling...|      Avery Dennison|\"{\"\"Sector\"\":\"\"In...|            90|\n",
      "|1701938942801255|4 to 11 Years|         B.Com|  $62K-$102K|              Moscow|         Russia|  61.524| 105.3188| Contract|       15465|      2022-01-25|        Female|Customer Support ...|Customer Success ...|            USAJOBS|Customer Success ...|Customer relation...|Build and maintai...|Bristol-Myers Squibb|\"{\"\"Sector\"\":\"\"He...|            82|\n",
      "|1549187090001553| 4 to 9 Years|           PhD|  $58K-$124K|              Dodoma|       Tanzania|  -6.369|  34.8888|Temporary|       82468|      2023-01-16|        Female|Public Relations ...|Media Relations S...|            Monster|Media Relations S...|Media relations P...|Manage relationsh...|          Albertsons|\"{\"\"Sector\"\":\"\"Re...|            91|\n",
      "|1985420468865688|3 to 15 Years|         M.Com|   $65K-$88K|            Brasilia|         Brazil| -14.235| -51.9253|   Intern|      100133|      2023-08-25|Male or Female|Market Research A...|   Market Researcher|               Dice|A Market Research...|Market research m...|Research market t...|   Burlington Stores|\"{\"\"Sector\"\":\"\"Re...|            76|\n",
      "| 824108570821616| 4 to 8 Years|           BCA|  $64K-$113K|          Libreville|          Gabon| -0.8037|  11.6094|Full-Time|       81460|      2022-04-13|          Male|    Network Engineer|Network Security ...|        SimplyHired|Network Security ...|Network security ...|Focus on network ...| NGL Energy Partners|\"{\"\"Sector\"\":\"\"En...|            88|\n",
      "|2682227177958709|3 to 14 Years|           MBA|  $60K-$126K|  City of Port Louis|      Mauritius|-20.3484|  57.5522|Part-Time|       40269|      2023-06-18|Male or Female|      HR Coordinator|Training Coordinator|           The Muse|Training Coordina...|Training program ...|Coordinate employ...|            AutoZone|\"{\"\"Sector\"\":\"\"Au...|            93|\n",
      "|1120327672520888|1 to 14 Years|           MCA|   $56K-$83K|            Chisinau|        Moldova| 47.4116|  28.3699|Temporary|       82146|      2023-02-27|        Female|  Aerospace Engineer|Aircraft Design E...|            Monster|Aircraft Design E...|Aerospace enginee...|Design and develo...|    Kyndryl Holdings|\"{\"\"Sector\"\":\"\"IT...|            69|\n",
      "|1016548307917517|1 to 10 Years|         B.Com|   $64K-$85K|               Accra|          Ghana|  7.9465|  -1.0232|Temporary|       25265|      2023-04-24|          Male| Procurement Manager| Procurement Analyst|Stack Overflow Jobs|Analyze procureme...|Procurement proce...|Analyze procureme...|              Intuit|\"{\"\"Sector\"\":\"\"Fi...|            74|\n",
      "| 931996206894263|0 to 15 Years|        B.Tech|  $63K-$128K|            Belgrade|         Serbia| 44.0165|  21.0059| Contract|       34436|      2023-02-23|Male or Female|    Account Director|  Account Strategist|        SimplyHired|Account Strategis...|Account managemen...|Develop account s...|    Waste Management|\"{\"\"Sector\"\":\"\"Wa...|            95|\n",
      "| 936026030787949|1 to 11 Years|           MCA|   $58K-$93K|             Mbabane|       Eswatini| 26.5225|  31.4659| Contract|      114431|      2022-07-20|          Male|Email Marketing S...|Deliverability An...|        SimplyHired|Monitor and impro...|Email deliverabil...|Focus on email de...|Jones Financial (...|\"{\"\"Sector\"\":\"\"Fi...|            75|\n",
      "|2681575284669917|3 to 11 Years|        M.Tech|  $62K-$109K|              Madrid|          Spain| 40.4637|  -3.7492|   Intern|      129637|      2023-09-12|        Female| Mechanical Designer|      CAD Technician|           The Muse|Create and modify...|Computer-aided de...|Use computer-aide...|           Starbucks|\"{\"\"Sector\"\":\"\"Fo...|            85|\n",
      "| 422350454096173|3 to 10 Years|           MCA|  $56K-$129K|              Riyadh|   Saudi Arabia| 23.8859|  45.0792|Part-Time|       62230|      2023-02-22|          Male|  Network Technician|Network Support S...|           FlexJobs|Network Support S...|Network troublesh...|Provide technical...|  Coal India Limited|\"{\"\"Sector\"\":\"\"Mi...|            92|\n",
      "| 566426802229219|2 to 12 Years|        M.Tech|  $57K-$113K|                Apia|          Samoa| -13.759|-172.1046|Full-Time|       82247|      2021-09-26|          Male|     Finance Manager|Financial Plannin...|      CareerBuilder|Financial Plannin...|Financial plannin...|Oversee financial...|          CVS Health|\"{\"\"Sector\"\":\"\"He...|            85|\n",
      "|2409827685209119|4 to 15 Years|           BCA|  $57K-$110K|            Pristina|         Kosovo| 42.6026|   20.903|Part-Time|      131373|      2021-09-18|          Male|     Systems Analyst|          IT Analyst|            USAJOBS|An IT Analyst ass...|IT systems analys...|Analyze business ...|     Elevance Health|\"{\"\"Sector\"\":\"\"He...|            83|\n",
      "| 663011056280519|2 to 13 Years|           MCA|   $61K-$80K|Sri Jayawardenepu...|      Sri Lanka|  7.8731|  80.7718| Contract|       57246|      2022-01-31|Male or Female|   Financial Advisor|  Investment Advisor|           Idealist|Investment Adviso...|Investment strate...|Provide investmen...|       Goodman Group|\"{\"\"Sector\"\":\"\"Re...|            70|\n",
      "| 490719222312982| 4 to 8 Years|           PhD|  $61K-$125K|             Yaounde|       Cameroon|  7.3697|  12.3547|Full-Time|       19294|      2022-10-24|Male or Female|       Event Planner|     Wedding Planner|           FlexJobs|Wedding Planners ...|Wedding planning ...|Specialize in wed...|  Jones Lang LaSalle|\"{\"\"Sector\"\":\"\"Re...|            93|\n",
      "+----------------+-------------+--------------+------------+--------------------+---------------+--------+---------+---------+------------+----------------+--------------+--------------------+--------------------+-------------------+--------------------+--------------------+--------------------+--------------------+--------------------+--------------+\n",
      "only showing top 20 rows\n",
      "\n"
     ]
    },
    {
     "name": "stderr",
     "output_type": "stream",
     "text": [
      "ERROR:root:KeyboardInterrupt while sending command.==>              (3 + 1) / 4]\n",
      "Traceback (most recent call last):\n",
      "  File \"/home/ubuntu/Desktop/final_project/venv/lib/python3.10/site-packages/py4j/java_gateway.py\", line 1038, in send_command\n",
      "    response = connection.send_command(command)\n",
      "  File \"/home/ubuntu/Desktop/final_project/venv/lib/python3.10/site-packages/py4j/clientserver.py\", line 511, in send_command\n",
      "    answer = smart_decode(self.stream.readline()[:-1])\n",
      "  File \"/usr/lib/python3.10/socket.py\", line 705, in readinto\n",
      "    return self._sock.recv_into(b)\n",
      "KeyboardInterrupt\n",
      "                                                                                \r"
     ]
    },
    {
     "ename": "KeyboardInterrupt",
     "evalue": "",
     "output_type": "error",
     "traceback": [
      "\u001b[0;31m---------------------------------------------------------------------------\u001b[0m",
      "\u001b[0;31mKeyboardInterrupt\u001b[0m                         Traceback (most recent call last)",
      "Cell \u001b[0;32mIn[41], line 1\u001b[0m\n\u001b[0;32m----> 1\u001b[0m dff\u001b[39m=\u001b[39mtransform()\n\u001b[1;32m      2\u001b[0m dff\u001b[39m.\u001b[39mprintSchema()\n",
      "Cell \u001b[0;32mIn[40], line 19\u001b[0m, in \u001b[0;36mtransform\u001b[0;34m()\u001b[0m\n\u001b[1;32m     15\u001b[0m new_df\u001b[39m.\u001b[39mshow()\n\u001b[1;32m     17\u001b[0m \u001b[39m#Dividing companies into tiers according to the company size\u001b[39;00m\n\u001b[0;32m---> 19\u001b[0m quartiles \u001b[39m=\u001b[39m new_df\u001b[39m.\u001b[39;49mstat\u001b[39m.\u001b[39;49mapproxQuantile(\u001b[39m\"\u001b[39;49m\u001b[39mcompany size\u001b[39;49m\u001b[39m\"\u001b[39;49m, [\u001b[39m0.25\u001b[39;49m, \u001b[39m0.75\u001b[39;49m], \u001b[39m0.0\u001b[39;49m)\n\u001b[1;32m     20\u001b[0m q1, q3 \u001b[39m=\u001b[39m quartiles\n\u001b[1;32m     21\u001b[0m new_df \u001b[39m=\u001b[39m new_df\u001b[39m.\u001b[39mwithColumn(\u001b[39m\"\u001b[39m\u001b[39mCompanyTier\u001b[39m\u001b[39m\"\u001b[39m,\n\u001b[1;32m     22\u001b[0m F\u001b[39m.\u001b[39mwhen(F\u001b[39m.\u001b[39mcol(\u001b[39m\"\u001b[39m\u001b[39mcompany size\u001b[39m\u001b[39m\"\u001b[39m) \u001b[39m<\u001b[39m\u001b[39m=\u001b[39m q1, \u001b[39m\"\u001b[39m\u001b[39mTier-1 (Low)\u001b[39m\u001b[39m\"\u001b[39m)\n\u001b[1;32m     23\u001b[0m \u001b[39m.\u001b[39mwhen((F\u001b[39m.\u001b[39mcol(\u001b[39m\"\u001b[39m\u001b[39mcompany size\u001b[39m\u001b[39m\"\u001b[39m) \u001b[39m>\u001b[39m q1) \u001b[39m&\u001b[39m (F\u001b[39m.\u001b[39mcol(\u001b[39m\"\u001b[39m\u001b[39mcompany size\u001b[39m\u001b[39m\"\u001b[39m) \u001b[39m<\u001b[39m\u001b[39m=\u001b[39m q3), \u001b[39m\"\u001b[39m\u001b[39mTier-2 (Medium)\u001b[39m\u001b[39m\"\u001b[39m)\n\u001b[1;32m     24\u001b[0m \u001b[39m.\u001b[39mwhen(F\u001b[39m.\u001b[39mcol(\u001b[39m\"\u001b[39m\u001b[39mcompany size\u001b[39m\u001b[39m\"\u001b[39m) \u001b[39m>\u001b[39m q3, \u001b[39m\"\u001b[39m\u001b[39mTier-3 (High)\u001b[39m\u001b[39m\"\u001b[39m)\n\u001b[1;32m     25\u001b[0m \u001b[39m.\u001b[39motherwise(\u001b[39m\"\u001b[39m\u001b[39mUncategorized\u001b[39m\u001b[39m\"\u001b[39m))\n",
      "File \u001b[0;32m~/Desktop/final_project/venv/lib/python3.10/site-packages/pyspark/sql/dataframe.py:5916\u001b[0m, in \u001b[0;36mDataFrameStatFunctions.approxQuantile\u001b[0;34m(self, col, probabilities, relativeError)\u001b[0m\n\u001b[1;32m   5910\u001b[0m \u001b[39mdef\u001b[39;00m \u001b[39mapproxQuantile\u001b[39m(\n\u001b[1;32m   5911\u001b[0m     \u001b[39mself\u001b[39m,\n\u001b[1;32m   5912\u001b[0m     col: Union[\u001b[39mstr\u001b[39m, List[\u001b[39mstr\u001b[39m], Tuple[\u001b[39mstr\u001b[39m]],\n\u001b[1;32m   5913\u001b[0m     probabilities: Union[List[\u001b[39mfloat\u001b[39m], Tuple[\u001b[39mfloat\u001b[39m]],\n\u001b[1;32m   5914\u001b[0m     relativeError: \u001b[39mfloat\u001b[39m,\n\u001b[1;32m   5915\u001b[0m ) \u001b[39m-\u001b[39m\u001b[39m>\u001b[39m Union[List[\u001b[39mfloat\u001b[39m], List[List[\u001b[39mfloat\u001b[39m]]]:\n\u001b[0;32m-> 5916\u001b[0m     \u001b[39mreturn\u001b[39;00m \u001b[39mself\u001b[39;49m\u001b[39m.\u001b[39;49mdf\u001b[39m.\u001b[39;49mapproxQuantile(col, probabilities, relativeError)\n",
      "File \u001b[0;32m~/Desktop/final_project/venv/lib/python3.10/site-packages/pyspark/sql/dataframe.py:4841\u001b[0m, in \u001b[0;36mDataFrame.approxQuantile\u001b[0;34m(self, col, probabilities, relativeError)\u001b[0m\n\u001b[1;32m   4832\u001b[0m     \u001b[39mraise\u001b[39;00m PySparkValueError(\n\u001b[1;32m   4833\u001b[0m         error_class\u001b[39m=\u001b[39m\u001b[39m\"\u001b[39m\u001b[39mNEGATIVE_VALUE\u001b[39m\u001b[39m\"\u001b[39m,\n\u001b[1;32m   4834\u001b[0m         message_parameters\u001b[39m=\u001b[39m{\n\u001b[0;32m   (...)\u001b[0m\n\u001b[1;32m   4837\u001b[0m         },\n\u001b[1;32m   4838\u001b[0m     )\n\u001b[1;32m   4839\u001b[0m relativeError \u001b[39m=\u001b[39m \u001b[39mfloat\u001b[39m(relativeError)\n\u001b[0;32m-> 4841\u001b[0m jaq \u001b[39m=\u001b[39m \u001b[39mself\u001b[39;49m\u001b[39m.\u001b[39;49m_jdf\u001b[39m.\u001b[39;49mstat()\u001b[39m.\u001b[39;49mapproxQuantile(col, probabilities, relativeError)\n\u001b[1;32m   4842\u001b[0m jaq_list \u001b[39m=\u001b[39m [\u001b[39mlist\u001b[39m(j) \u001b[39mfor\u001b[39;00m j \u001b[39min\u001b[39;00m jaq]\n\u001b[1;32m   4843\u001b[0m \u001b[39mreturn\u001b[39;00m jaq_list[\u001b[39m0\u001b[39m] \u001b[39mif\u001b[39;00m isStr \u001b[39melse\u001b[39;00m jaq_list\n",
      "File \u001b[0;32m~/Desktop/final_project/venv/lib/python3.10/site-packages/py4j/java_gateway.py:1321\u001b[0m, in \u001b[0;36mJavaMember.__call__\u001b[0;34m(self, *args)\u001b[0m\n\u001b[1;32m   1314\u001b[0m args_command, temp_args \u001b[39m=\u001b[39m \u001b[39mself\u001b[39m\u001b[39m.\u001b[39m_build_args(\u001b[39m*\u001b[39margs)\n\u001b[1;32m   1316\u001b[0m command \u001b[39m=\u001b[39m proto\u001b[39m.\u001b[39mCALL_COMMAND_NAME \u001b[39m+\u001b[39m\\\n\u001b[1;32m   1317\u001b[0m     \u001b[39mself\u001b[39m\u001b[39m.\u001b[39mcommand_header \u001b[39m+\u001b[39m\\\n\u001b[1;32m   1318\u001b[0m     args_command \u001b[39m+\u001b[39m\\\n\u001b[1;32m   1319\u001b[0m     proto\u001b[39m.\u001b[39mEND_COMMAND_PART\n\u001b[0;32m-> 1321\u001b[0m answer \u001b[39m=\u001b[39m \u001b[39mself\u001b[39;49m\u001b[39m.\u001b[39;49mgateway_client\u001b[39m.\u001b[39;49msend_command(command)\n\u001b[1;32m   1322\u001b[0m return_value \u001b[39m=\u001b[39m get_return_value(\n\u001b[1;32m   1323\u001b[0m     answer, \u001b[39mself\u001b[39m\u001b[39m.\u001b[39mgateway_client, \u001b[39mself\u001b[39m\u001b[39m.\u001b[39mtarget_id, \u001b[39mself\u001b[39m\u001b[39m.\u001b[39mname)\n\u001b[1;32m   1325\u001b[0m \u001b[39mfor\u001b[39;00m temp_arg \u001b[39min\u001b[39;00m temp_args:\n",
      "File \u001b[0;32m~/Desktop/final_project/venv/lib/python3.10/site-packages/py4j/java_gateway.py:1038\u001b[0m, in \u001b[0;36mGatewayClient.send_command\u001b[0;34m(self, command, retry, binary)\u001b[0m\n\u001b[1;32m   1036\u001b[0m connection \u001b[39m=\u001b[39m \u001b[39mself\u001b[39m\u001b[39m.\u001b[39m_get_connection()\n\u001b[1;32m   1037\u001b[0m \u001b[39mtry\u001b[39;00m:\n\u001b[0;32m-> 1038\u001b[0m     response \u001b[39m=\u001b[39m connection\u001b[39m.\u001b[39;49msend_command(command)\n\u001b[1;32m   1039\u001b[0m     \u001b[39mif\u001b[39;00m binary:\n\u001b[1;32m   1040\u001b[0m         \u001b[39mreturn\u001b[39;00m response, \u001b[39mself\u001b[39m\u001b[39m.\u001b[39m_create_connection_guard(connection)\n",
      "File \u001b[0;32m~/Desktop/final_project/venv/lib/python3.10/site-packages/py4j/clientserver.py:511\u001b[0m, in \u001b[0;36mClientServerConnection.send_command\u001b[0;34m(self, command)\u001b[0m\n\u001b[1;32m    509\u001b[0m \u001b[39mtry\u001b[39;00m:\n\u001b[1;32m    510\u001b[0m     \u001b[39mwhile\u001b[39;00m \u001b[39mTrue\u001b[39;00m:\n\u001b[0;32m--> 511\u001b[0m         answer \u001b[39m=\u001b[39m smart_decode(\u001b[39mself\u001b[39;49m\u001b[39m.\u001b[39;49mstream\u001b[39m.\u001b[39;49mreadline()[:\u001b[39m-\u001b[39m\u001b[39m1\u001b[39m])\n\u001b[1;32m    512\u001b[0m         logger\u001b[39m.\u001b[39mdebug(\u001b[39m\"\u001b[39m\u001b[39mAnswer received: \u001b[39m\u001b[39m{0}\u001b[39;00m\u001b[39m\"\u001b[39m\u001b[39m.\u001b[39mformat(answer))\n\u001b[1;32m    513\u001b[0m         \u001b[39m# Happens when a the other end is dead. There might be an empty\u001b[39;00m\n\u001b[1;32m    514\u001b[0m         \u001b[39m# answer before the socket raises an error.\u001b[39;00m\n",
      "File \u001b[0;32m/usr/lib/python3.10/socket.py:705\u001b[0m, in \u001b[0;36mSocketIO.readinto\u001b[0;34m(self, b)\u001b[0m\n\u001b[1;32m    703\u001b[0m \u001b[39mwhile\u001b[39;00m \u001b[39mTrue\u001b[39;00m:\n\u001b[1;32m    704\u001b[0m     \u001b[39mtry\u001b[39;00m:\n\u001b[0;32m--> 705\u001b[0m         \u001b[39mreturn\u001b[39;00m \u001b[39mself\u001b[39;49m\u001b[39m.\u001b[39;49m_sock\u001b[39m.\u001b[39;49mrecv_into(b)\n\u001b[1;32m    706\u001b[0m     \u001b[39mexcept\u001b[39;00m timeout:\n\u001b[1;32m    707\u001b[0m         \u001b[39mself\u001b[39m\u001b[39m.\u001b[39m_timeout_occurred \u001b[39m=\u001b[39m \u001b[39mTrue\u001b[39;00m\n",
      "\u001b[0;31mKeyboardInterrupt\u001b[0m: "
     ]
    }
   ],
   "source": [
    "dff=transform()\n",
    "dff.printSchema()"
   ]
  },
  {
   "cell_type": "code",
   "execution_count": 21,
   "metadata": {},
   "outputs": [],
   "source": [
    "def load():\n",
    "    try:\n",
    "        dff=transform()\n",
    "        ##Load the clean data in postgres\n",
    "        dff.write.format('jdbc').options(url=config['postgres'][\"url\"],driver = config['postgres'][\"driver\"], dbtable = config['postgres'][\"dbtable\"], user=config['postgres'][\"user\"],password=config['postgres'][\"password\"]).mode('overwrite').save()\n",
    "        return dff\n",
    "    except Exception as e:\n",
    "        raise Exception(f\"An error occurred during loading the data: {str(e)}\")\n",
    "        spark.stop()    \n"
   ]
  },
  {
   "cell_type": "code",
   "execution_count": 22,
   "metadata": {},
   "outputs": [
    {
     "name": "stderr",
     "output_type": "stream",
     "text": [
      "                                                                                \r"
     ]
    },
    {
     "name": "stdout",
     "output_type": "stream",
     "text": [
      "+----------------+-------------+--------------+------------+--------------------+---------------+--------+---------+---------+------------+----------------+--------------+--------------------+--------------------+-------------------+--------------------+--------------------+--------------------+--------------------+--------------------+--------------+\n",
      "|          Job Id|   experience|qualifications|Salary Range|            location|        country|latitude|longitude|Work Type|Company Size|Job Posting Date|    Preference|           Job Title|                Role|         Job Portal|     Job Description|              skills|    responsibilities|             company|              Sector|Average Salary|\n",
      "+----------------+-------------+--------------+------------+--------------------+---------------+--------+---------+---------+------------+----------------+--------------+--------------------+--------------------+-------------------+--------------------+--------------------+--------------------+--------------------+--------------------+--------------+\n",
      "| 750556001849337|1 to 15 Years|           MBA|   $61K-$85K|                Suva|           Fiji|-17.7134|  178.065| Contract|      116756|      2022-02-11|          Male| Front-End Developer|     UI/UX Developer|             Indeed|A UI/UX Developer...|User interface (U...|Design and implem...|   Jackson Financial|  Financial Services|            73|\n",
      "|  35160975336498|1 to 13 Years|           BBA|  $56K-$101K|               Rabat|        Morocco| 31.7917|  -7.0926|   Intern|       90543|      2022-04-30|Male or Female|        Pediatrician|General Pediatrician|               Dice|General Pediatric...|Pediatrics Pediat...|Provide primary h...|Erie Insurance Group|           Insurance|            78|\n",
      "| 226828850189486|3 to 12 Years|        B.Tech|   $61K-$97K|             Bishkek|Kyrgyz Republic| 41.2044|  74.7661| Contract|       37286|      2021-10-23|        Female|IT Support Specia...|IT Systems Admini...|Stack Overflow Jobs|IT Systems Admini...|Network administr...|Administer and ma...| Tata Communications|  Telecommunications|            79|\n",
      "|2181795420055381|1 to 12 Years|        M.Tech|   $60K-$93K|          Porto-Novo|          Benin|  9.3077|   2.3158|Full-Time|       34863|      2022-02-21|Male or Female|    Registered Nurse|         Staff Nurse|        SimplyHired|A Staff Nurse pro...|Nursing care Pati...|Provide direct pa...|            Amphenol|         Electronics|            76|\n",
      "|1755044933676954|0 to 11 Years|           BCA|  $57K-$124K|             Tbilisi|        Georgia| 42.3154|  43.3569|Part-Time|       47150|      2021-11-08|        Female|Social Media Coor...|     Content Creator|    Internships.com|Create engaging a...|Content creation ...|Create compelling...|      Avery Dennison|          Industrial|            90|\n",
      "|1701938942801255|4 to 11 Years|         B.Com|  $62K-$102K|              Moscow|         Russia|  61.524| 105.3188| Contract|       15465|      2022-01-25|        Female|Customer Support ...|Customer Success ...|            USAJOBS|Customer Success ...|Customer relation...|Build and maintai...|Bristol-Myers Squibb|          Healthcare|            82|\n",
      "|1549187090001553| 4 to 9 Years|           PhD|  $58K-$124K|              Dodoma|       Tanzania|  -6.369|  34.8888|Temporary|       82468|      2023-01-16|        Female|Public Relations ...|Media Relations S...|            Monster|Media Relations S...|Media relations P...|Manage relationsh...|          Albertsons|              Retail|            91|\n",
      "|1985420468865688|3 to 15 Years|         M.Com|   $65K-$88K|            Brasilia|         Brazil| -14.235| -51.9253|   Intern|      100133|      2023-08-25|Male or Female|Market Research A...|   Market Researcher|               Dice|A Market Research...|Market research m...|Research market t...|   Burlington Stores|              Retail|            76|\n",
      "| 824108570821616| 4 to 8 Years|           BCA|  $64K-$113K|          Libreville|          Gabon| -0.8037|  11.6094|Full-Time|       81460|      2022-04-13|          Male|    Network Engineer|Network Security ...|        SimplyHired|Network Security ...|Network security ...|Focus on network ...| NGL Energy Partners|              Energy|            88|\n",
      "|2682227177958709|3 to 14 Years|           MBA|  $60K-$126K|  City of Port Louis|      Mauritius|-20.3484|  57.5522|Part-Time|       40269|      2023-06-18|Male or Female|      HR Coordinator|Training Coordinator|           The Muse|Training Coordina...|Training program ...|Coordinate employ...|            AutoZone|    Automotive Parts|            93|\n",
      "|1120327672520888|1 to 14 Years|           MCA|   $56K-$83K|            Chisinau|        Moldova| 47.4116|  28.3699|Temporary|       82146|      2023-02-27|        Female|  Aerospace Engineer|Aircraft Design E...|            Monster|Aircraft Design E...|Aerospace enginee...|Design and develo...|    Kyndryl Holdings|         IT Services|            69|\n",
      "|1016548307917517|1 to 10 Years|         B.Com|   $64K-$85K|               Accra|          Ghana|  7.9465|  -1.0232|Temporary|       25265|      2023-04-24|          Male| Procurement Manager| Procurement Analyst|Stack Overflow Jobs|Analyze procureme...|Procurement proce...|Analyze procureme...|              Intuit|Financial Technology|            74|\n",
      "| 931996206894263|0 to 15 Years|        B.Tech|  $63K-$128K|            Belgrade|         Serbia| 44.0165|  21.0059| Contract|       34436|      2023-02-23|Male or Female|    Account Director|  Account Strategist|        SimplyHired|Account Strategis...|Account managemen...|Develop account s...|    Waste Management|    Waste Management|            95|\n",
      "| 936026030787949|1 to 11 Years|           MCA|   $58K-$93K|             Mbabane|       Eswatini| 26.5225|  31.4659| Contract|      114431|      2022-07-20|          Male|Email Marketing S...|Deliverability An...|        SimplyHired|Monitor and impro...|Email deliverabil...|Focus on email de...|Jones Financial (...|  Financial Services|            75|\n",
      "|2681575284669917|3 to 11 Years|        M.Tech|  $62K-$109K|              Madrid|          Spain| 40.4637|  -3.7492|   Intern|      129637|      2023-09-12|        Female| Mechanical Designer|      CAD Technician|           The Muse|Create and modify...|Computer-aided de...|Use computer-aide...|           Starbucks|   Food and Beverage|            85|\n",
      "| 422350454096173|3 to 10 Years|           MCA|  $56K-$129K|              Riyadh|   Saudi Arabia| 23.8859|  45.0792|Part-Time|       62230|      2023-02-22|          Male|  Network Technician|Network Support S...|           FlexJobs|Network Support S...|Network troublesh...|Provide technical...|  Coal India Limited|              Mining|            92|\n",
      "| 566426802229219|2 to 12 Years|        M.Tech|  $57K-$113K|                Apia|          Samoa| -13.759|-172.1046|Full-Time|       82247|      2021-09-26|          Male|     Finance Manager|Financial Plannin...|      CareerBuilder|Financial Plannin...|Financial plannin...|Oversee financial...|          CVS Health|          Healthcare|            85|\n",
      "|2409827685209119|4 to 15 Years|           BCA|  $57K-$110K|            Pristina|         Kosovo| 42.6026|   20.903|Part-Time|      131373|      2021-09-18|          Male|     Systems Analyst|          IT Analyst|            USAJOBS|An IT Analyst ass...|IT systems analys...|Analyze business ...|     Elevance Health|          Healthcare|            83|\n",
      "| 663011056280519|2 to 13 Years|           MCA|   $61K-$80K|Sri Jayawardenepu...|      Sri Lanka|  7.8731|  80.7718| Contract|       57246|      2022-01-31|Male or Female|   Financial Advisor|  Investment Advisor|           Idealist|Investment Adviso...|Investment strate...|Provide investmen...|       Goodman Group|Real Estate/Logis...|            70|\n",
      "| 490719222312982| 4 to 8 Years|           PhD|  $61K-$125K|             Yaounde|       Cameroon|  7.3697|  12.3547|Full-Time|       19294|      2022-10-24|Male or Female|       Event Planner|     Wedding Planner|           FlexJobs|Wedding Planners ...|Wedding planning ...|Specialize in wed...|  Jones Lang LaSalle|         Real Estate|            93|\n",
      "+----------------+-------------+--------------+------------+--------------------+---------------+--------+---------+---------+------------+----------------+--------------+--------------------+--------------------+-------------------+--------------------+--------------------+--------------------+--------------------+--------------------+--------------+\n",
      "only showing top 20 rows\n",
      "\n"
     ]
    },
    {
     "name": "stderr",
     "output_type": "stream",
     "text": [
      "                                                                                \r"
     ]
    },
    {
     "data": {
      "text/plain": [
       "DataFrame[Job Id: bigint, experience: string, qualifications: string, Salary Range: string, location: string, country: string, latitude: float, longitude: float, Work Type: string, Company Size: int, Job Posting Date: date, Preference: string, Job Title: string, Role: string, Job Portal: string, Job Description: string, skills: string, responsibilities: string, company: string, Sector: string, Average Salary: int, CompanyTier: string, SalaryLevel: string, QualificationCategory: string]"
      ]
     },
     "execution_count": 22,
     "metadata": {},
     "output_type": "execute_result"
    }
   ],
   "source": [
    "load()"
   ]
  }
 ],
 "metadata": {
  "kernelspec": {
   "display_name": "venv",
   "language": "python",
   "name": "python3"
  },
  "language_info": {
   "codemirror_mode": {
    "name": "ipython",
    "version": 3
   },
   "file_extension": ".py",
   "mimetype": "text/x-python",
   "name": "python",
   "nbconvert_exporter": "python",
   "pygments_lexer": "ipython3",
   "version": "3.10.12"
  },
  "orig_nbformat": 4
 },
 "nbformat": 4,
 "nbformat_minor": 2
}
