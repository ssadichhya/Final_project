{
 "cells": [
  {
   "cell_type": "code",
   "execution_count": 28,
   "metadata": {},
   "outputs": [],
   "source": [
    "from pyspark.sql import SparkSession\n",
    "from pyspark.sql.types import LongType, FloatType, IntegerType, DateType\n",
    "import pyspark.sql.functions as F\n",
    "import re\n",
    "import yaml\n",
    "\n",
    "#define path to your yaml file\n",
    "yaml_file_path= 'config.yaml'\n",
    "\n",
    "with open(yaml_file_path, 'r') as yaml_file:\n",
    "    config = yaml.safe_load(yaml_file)\n",
    "\n",
    "spark = SparkSession \\\n",
    "    .builder \\\n",
    "    .appName(\"final_project\") \\\n",
    "    .master(\"local[*]\")\\\n",
    "    .config(\"spark.executor.memory\", \"2g\")\\\n",
    "    .config(\"spark.jars\", config['spark']['path']) \\\n",
    "    .getOrCreate()"
   ]
  },
  {
   "cell_type": "code",
   "execution_count": 29,
   "metadata": {},
   "outputs": [],
   "source": [
    "def extract(spark):\n",
    "        \n",
    "    #csv path\n",
    "    csv = config['csv']['path']\n",
    "    #Read raw_data\n",
    "    df = spark.read.csv(csv, header=True, inferSchema=False)\n",
    "    return df\n"
   ]
  },
  {
   "cell_type": "code",
   "execution_count": 31,
   "metadata": {},
   "outputs": [],
   "source": [
    "def clean(spark):\n",
    "    df=extract(spark)\n",
    "    #changing -ve company size to positive\n",
    "    df = df.withColumn(\"Company Size\", F.when(F.col(\"Company Size\") < 0, -F.col(\"Company Size\")).otherwise(F.col(\"Company Size\")))\n",
    "    #List of columns to drop \n",
    "    dropped = [\"Contact Person\", \"Contact\", \"Benefits\",\"Company Profile\"]\n",
    "    #Drop column\n",
    "    df = df.drop(*dropped)\n",
    "    #changing to standard datatype\n",
    "    df = df.withColumn(\"Job Id\", df[\"Job Id\"].cast(LongType()))\\\n",
    "        .withColumn(\"latitude\", df[\"latitude\"].cast(FloatType()))\\\n",
    "         .withColumn(\"longitude\", df[\"longitude\"].cast(FloatType()))\\\n",
    "          .withColumn(\"Company Size\", df[\"Company Size\"].cast(IntegerType()))\\\n",
    "           .withColumn(\"Job Posting Date\", df[\"Job Posting Date\"].cast(DateType()))\n",
    "    return df\n"
   ]
  },
  {
   "cell_type": "code",
   "execution_count": 21,
   "metadata": {},
   "outputs": [],
   "source": [
    "#udf to calculate avg\n",
    "def calculate_average(range_str):\n",
    "    # Use regular expression to extract numbers\n",
    "    numbers = re.findall(r'\\d+', range_str)\n",
    "    if len(numbers) == 2:\n",
    "        lower = int(numbers[0])\n",
    "        upper = int(numbers[1])\n",
    "        avg = (lower + upper) / 2\n",
    "        return avg\n",
    "    else:\n",
    "        return None\n"
   ]
  },
  {
   "cell_type": "code",
   "execution_count": 33,
   "metadata": {},
   "outputs": [],
   "source": [
    "def transform():\n",
    "    df=extract()\n",
    "    calculate_average_udf = F.udf(calculate_average)\n",
    "    # Add a new column with the calculated average\n",
    "    new_df = df.withColumn(\"Average\", calculate_average_udf(df[\"Salary Range\"]))\n",
    "    new_df.withColumnRenamed(\"Average\",\"Average Salary\").printSchema()\n",
    "    return new_df"
   ]
  },
  {
   "cell_type": "code",
   "execution_count": 17,
   "metadata": {},
   "outputs": [],
   "source": [
    "def load():\n",
    "    new_df=transform()\n",
    "    ##Load the clean data in postgres\n",
    "    new_df.write.format('jdbc').options(url=config['postgres']['url'],driver = config['postgres']['driver'], dbtable = config['postgres']['dbtable'], user=config['postgres']['user'],password=config['postgres']['password']).mode('overwrite').save()\n",
    "    return new_df"
   ]
  },
  {
   "cell_type": "code",
   "execution_count": 34,
   "metadata": {},
   "outputs": [
    {
     "name": "stderr",
     "output_type": "stream",
     "text": [
      "23/10/31 15:09:47 INFO FileSourceStrategy: Pushed Filters: \n",
      "23/10/31 15:09:47 INFO FileSourceStrategy: Post-Scan Filters: \n"
     ]
    },
    {
     "data": {
      "text/plain": [
       "DataFrame[Job Id: bigint, experience: string, qualifications: string, Salary Range: string, location: string, country: string, latitude: float, longitude: float, Work Type: string, Company Size: int, Job Posting Date: date, preference: string, Job Title: string, Role: string, Job Portal: string, Job Description: string, skills: string, responsibilities: string, company: string]"
      ]
     },
     "execution_count": 34,
     "metadata": {},
     "output_type": "execute_result"
    }
   ],
   "source": [
    "df.persist()"
   ]
  }
 ],
 "metadata": {
  "kernelspec": {
   "display_name": "venv",
   "language": "python",
   "name": "python3"
  },
  "language_info": {
   "codemirror_mode": {
    "name": "ipython",
    "version": 3
   },
   "file_extension": ".py",
   "mimetype": "text/x-python",
   "name": "python",
   "nbconvert_exporter": "python",
   "pygments_lexer": "ipython3",
   "version": "3.10.12"
  },
  "orig_nbformat": 4
 },
 "nbformat": 4,
 "nbformat_minor": 2
}
